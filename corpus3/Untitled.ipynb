{
 "cells": [
  {
   "cell_type": "code",
   "execution_count": 1,
   "metadata": {},
   "outputs": [],
   "source": [
    "import json\n",
    "import os\n",
    "from bs4 import BeautifulSoup\n",
    "import re\n",
    "from nltk import sent_tokenize, wordpunct_tokenize, pos_tag\n",
    "import nltk\n",
    "from gensim.models.doc2vec import TaggedDocument, Doc2Vec\n",
    "from gensim import corpora, models, similarities\n",
    "import nltk, math, codecs\n",
    "from nltk.cluster.kmeans import KMeansClusterer"
   ]
  },
  {
   "cell_type": "code",
   "execution_count": 2,
   "metadata": {},
   "outputs": [],
   "source": [
    "def paras(html):\n",
    "    soup = BeautifulSoup(html, 'html.parser')\n",
    "    for string in soup.stripped_strings:\n",
    "        yield string\n",
    "\n",
    "def sents(html):\n",
    "    for paragraph in paras(html):\n",
    "        for sentence in sent_tokenize(paragraph):\n",
    "            yield sentence\n",
    "\n",
    "def words(html):\n",
    "    for sentence in sents(html):\n",
    "        for token in wordpunct_tokenize(sentence):\n",
    "            yield token\n",
    "\n",
    "def tokenize(html):\n",
    "    for paragraph in paras(html):\n",
    "        yield [pos_tag(wordpunct_tokenize(sent)) for sent in sent_tokenize(paragraph)]\n",
    "    \n"
   ]
  },
  {
   "cell_type": "code",
   "execution_count": 4,
   "metadata": {},
   "outputs": [
    {
     "ename": "FileNotFoundError",
     "evalue": "[Errno 2] No such file or directory: 'corpus2/31-08-2018/Page_2/'",
     "output_type": "error",
     "traceback": [
      "\u001b[0;31m---------------------------------------------------------------------------\u001b[0m",
      "\u001b[0;31mFileNotFoundError\u001b[0m                         Traceback (most recent call last)",
      "\u001b[0;32m<ipython-input-4-9dc0a28e57e2>\u001b[0m in \u001b[0;36m<module>\u001b[0;34m()\u001b[0m\n\u001b[1;32m      1\u001b[0m \u001b[0mpath\u001b[0m \u001b[0;34m=\u001b[0m \u001b[0;34m'corpus2/31-08-2018/Page_2/'\u001b[0m\u001b[0;34m\u001b[0m\u001b[0m\n\u001b[0;32m----> 2\u001b[0;31m \u001b[0mfiles\u001b[0m \u001b[0;34m=\u001b[0m \u001b[0mos\u001b[0m\u001b[0;34m.\u001b[0m\u001b[0mlistdir\u001b[0m\u001b[0;34m(\u001b[0m\u001b[0mpath\u001b[0m\u001b[0;34m)\u001b[0m\u001b[0;34m\u001b[0m\u001b[0m\n\u001b[0m\u001b[1;32m      3\u001b[0m \u001b[0mrxs\u001b[0m \u001b[0;34m=\u001b[0m \u001b[0;34m[\u001b[0m\u001b[0mre\u001b[0m\u001b[0;34m.\u001b[0m\u001b[0msearch\u001b[0m\u001b[0;34m(\u001b[0m\u001b[0;34m'^\\.'\u001b[0m\u001b[0;34m,\u001b[0m\u001b[0mfile\u001b[0m\u001b[0;34m)\u001b[0m \u001b[0;32mfor\u001b[0m \u001b[0mfile\u001b[0m \u001b[0;32min\u001b[0m \u001b[0mfiles\u001b[0m\u001b[0;34m]\u001b[0m\u001b[0;34m\u001b[0m\u001b[0m\n\u001b[1;32m      4\u001b[0m \u001b[0mi\u001b[0m \u001b[0;34m=\u001b[0m\u001b[0;34m[\u001b[0m\u001b[0mn\u001b[0m \u001b[0;32mfor\u001b[0m \u001b[0mn\u001b[0m \u001b[0;32min\u001b[0m \u001b[0mrange\u001b[0m\u001b[0;34m(\u001b[0m\u001b[0mlen\u001b[0m\u001b[0;34m(\u001b[0m\u001b[0mrxs\u001b[0m\u001b[0;34m)\u001b[0m\u001b[0;34m)\u001b[0m \u001b[0;32mif\u001b[0m \u001b[0mrxs\u001b[0m\u001b[0;34m[\u001b[0m\u001b[0mn\u001b[0m\u001b[0;34m]\u001b[0m\u001b[0;34m]\u001b[0m\u001b[0;34m\u001b[0m\u001b[0m\n\u001b[1;32m      5\u001b[0m \u001b[0mn\u001b[0m\u001b[0;34m=\u001b[0m\u001b[0;36m0\u001b[0m\u001b[0;34m\u001b[0m\u001b[0m\n",
      "\u001b[0;31mFileNotFoundError\u001b[0m: [Errno 2] No such file or directory: 'corpus2/31-08-2018/Page_2/'"
     ]
    }
   ],
   "source": [
    "path = 'corpus2/31-08-2018/Page_2/'\n",
    "files = os.listdir(path)\n",
    "rxs = [re.search('^\\.',file) for file in files]\n",
    "i =[n for n in range(len(rxs)) if rxs[n]]\n",
    "n=0\n",
    "for k in i:\n",
    "    files.pop(k-n)\n",
    "    n += 1\n",
    "docs = []\n",
    "titles = []\n",
    "n=0\n",
    "for file in files: \n",
    "    with open(path + file, encoding='utf-8') as f:\n",
    "        job_post = f.read()\n",
    "\n",
    "    job_dict = eval(job_post)\n",
    "\n",
    "    job_dict.keys()\n",
    "\n",
    "    title = job_dict['job title']\n",
    "    company = job_dict['company']\n",
    "    titles.append([n, title, company])\n",
    "    html = job_dict['job description']\n",
    "\n",
    "    \n",
    "    doc = [x for x in words(html)]\n",
    "    docs.append(doc)\n",
    "    n += 1\n",
    "    "
   ]
  },
  {
   "cell_type": "code",
   "execution_count": null,
   "metadata": {},
   "outputs": [],
   "source": []
  }
 ],
 "metadata": {
  "kernelspec": {
   "display_name": "Python 3",
   "language": "python",
   "name": "python3"
  },
  "language_info": {
   "codemirror_mode": {
    "name": "ipython",
    "version": 3
   },
   "file_extension": ".py",
   "mimetype": "text/x-python",
   "name": "python",
   "nbconvert_exporter": "python",
   "pygments_lexer": "ipython3",
   "version": "3.6.4"
  }
 },
 "nbformat": 4,
 "nbformat_minor": 2
}
