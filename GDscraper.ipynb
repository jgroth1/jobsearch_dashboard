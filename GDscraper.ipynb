{
 "cells": [
  {
   "cell_type": "code",
   "execution_count": 1,
   "metadata": {},
   "outputs": [],
   "source": [
    "from splinter import Browser\n",
    "from bs4 import BeautifulSoup\n",
    "import datetime\n",
    "import os\n",
    "import json\n",
    "import time\n",
    "import re"
   ]
  },
  {
   "cell_type": "code",
   "execution_count": 2,
   "metadata": {},
   "outputs": [],
   "source": [
    "executable_path = {'executable_path': '/usr/local/bin/chromedriver'}\n",
    "browser = Browser('chrome', **executable_path, headless=False)\n",
    "\n",
    "browser.visit('https://www.glassdoor.com')\n",
    "time.sleep(2)\n",
    "\n",
    "browser.find_by_xpath(\"//input[@id='KeywordSearch']\").fill('Data Scientist')\n",
    "browser.find_by_xpath(\"//input[@id='LocationSearch']\").fill('United States')\n",
    "browser.find_by_id('HeroSearchButton').click()\n",
    "time.sleep(2)\n",
    "\n",
    "browser.find_by_text(\"Date Posted\").click()\n",
    "time.sleep(1)\n",
    "\n",
    "browser.find_by_text(\"Last Month\").click()\n",
    "time.sleep(2)"
   ]
  },
  {
   "cell_type": "code",
   "execution_count": 3,
   "metadata": {},
   "outputs": [],
   "source": [
    "x_button = browser.find_by_css('div.xBtn')\n",
    "if x_button:\n",
    "    x_button.click()\n",
    "next_button = browser.find_by_css('li.next')\n",
    "next_button.click()"
   ]
  },
  {
   "cell_type": "code",
   "execution_count": 4,
   "metadata": {},
   "outputs": [
    {
     "data": {
      "text/plain": [
       "29"
      ]
     },
     "execution_count": 4,
     "metadata": {},
     "output_type": "execute_result"
    }
   ],
   "source": [
    "elements = browser.find_by_xpath(\"//li[@class='jl']\")\n",
    "len(elements)"
   ]
  },
  {
   "cell_type": "code",
   "execution_count": 5,
   "metadata": {},
   "outputs": [],
   "source": [
    "blob = str(BeautifulSoup(elements[1].find_by_css('div')[1].html, 'html.parser'))\n",
    "m =re.search('(?<=href=\").*(?=\" rel)', blob)\n",
    "url = 'https://www.glassdoor.com'\n",
    "url2 = url + m.group(0)\n",
    "url2 = url2.replace(\"amp;\",\"\")\n",
    "browser.visit(url2)"
   ]
  },
  {
   "cell_type": "code",
   "execution_count": 6,
   "metadata": {},
   "outputs": [
    {
     "name": "stdout",
     "output_type": "stream",
     "text": [
      "Message: stale element reference: element is not attached to the page document\n",
      "  (Session info: chrome=68.0.3440.106)\n",
      "  (Driver info: chromedriver=2.41.578706 (5f725d1b4f0a4acbf5259df887244095596231db),platform=Mac OS X 10.13.6 x86_64)\n",
      "\n",
      "Message: stale element reference: element is not attached to the page document\n",
      "  (Session info: chrome=68.0.3440.106)\n",
      "  (Driver info: chromedriver=2.41.578706 (5f725d1b4f0a4acbf5259df887244095596231db),platform=Mac OS X 10.13.6 x86_64)\n",
      "\n",
      "Message: stale element reference: element is not attached to the page document\n",
      "  (Session info: chrome=68.0.3440.106)\n",
      "  (Driver info: chromedriver=2.41.578706 (5f725d1b4f0a4acbf5259df887244095596231db),platform=Mac OS X 10.13.6 x86_64)\n",
      "\n",
      "Message: stale element reference: element is not attached to the page document\n",
      "  (Session info: chrome=68.0.3440.106)\n",
      "  (Driver info: chromedriver=2.41.578706 (5f725d1b4f0a4acbf5259df887244095596231db),platform=Mac OS X 10.13.6 x86_64)\n",
      "\n",
      "Message: stale element reference: element is not attached to the page document\n",
      "  (Session info: chrome=68.0.3440.106)\n",
      "  (Driver info: chromedriver=2.41.578706 (5f725d1b4f0a4acbf5259df887244095596231db),platform=Mac OS X 10.13.6 x86_64)\n",
      "\n",
      "Message: stale element reference: element is not attached to the page document\n",
      "  (Session info: chrome=68.0.3440.106)\n",
      "  (Driver info: chromedriver=2.41.578706 (5f725d1b4f0a4acbf5259df887244095596231db),platform=Mac OS X 10.13.6 x86_64)\n",
      "\n",
      "Message: stale element reference: element is not attached to the page document\n",
      "  (Session info: chrome=68.0.3440.106)\n",
      "  (Driver info: chromedriver=2.41.578706 (5f725d1b4f0a4acbf5259df887244095596231db),platform=Mac OS X 10.13.6 x86_64)\n",
      "\n",
      "Message: stale element reference: element is not attached to the page document\n",
      "  (Session info: chrome=68.0.3440.106)\n",
      "  (Driver info: chromedriver=2.41.578706 (5f725d1b4f0a4acbf5259df887244095596231db),platform=Mac OS X 10.13.6 x86_64)\n",
      "\n",
      "Message: stale element reference: element is not attached to the page document\n",
      "  (Session info: chrome=68.0.3440.106)\n",
      "  (Driver info: chromedriver=2.41.578706 (5f725d1b4f0a4acbf5259df887244095596231db),platform=Mac OS X 10.13.6 x86_64)\n",
      "\n",
      "Message: stale element reference: element is not attached to the page document\n",
      "  (Session info: chrome=68.0.3440.106)\n",
      "  (Driver info: chromedriver=2.41.578706 (5f725d1b4f0a4acbf5259df887244095596231db),platform=Mac OS X 10.13.6 x86_64)\n",
      "\n",
      "Message: stale element reference: element is not attached to the page document\n",
      "  (Session info: chrome=68.0.3440.106)\n",
      "  (Driver info: chromedriver=2.41.578706 (5f725d1b4f0a4acbf5259df887244095596231db),platform=Mac OS X 10.13.6 x86_64)\n",
      "\n",
      "Message: stale element reference: element is not attached to the page document\n",
      "  (Session info: chrome=68.0.3440.106)\n",
      "  (Driver info: chromedriver=2.41.578706 (5f725d1b4f0a4acbf5259df887244095596231db),platform=Mac OS X 10.13.6 x86_64)\n",
      "\n",
      "Message: stale element reference: element is not attached to the page document\n",
      "  (Session info: chrome=68.0.3440.106)\n",
      "  (Driver info: chromedriver=2.41.578706 (5f725d1b4f0a4acbf5259df887244095596231db),platform=Mac OS X 10.13.6 x86_64)\n",
      "\n",
      "Message: stale element reference: element is not attached to the page document\n",
      "  (Session info: chrome=68.0.3440.106)\n",
      "  (Driver info: chromedriver=2.41.578706 (5f725d1b4f0a4acbf5259df887244095596231db),platform=Mac OS X 10.13.6 x86_64)\n",
      "\n",
      "Message: stale element reference: element is not attached to the page document\n",
      "  (Session info: chrome=68.0.3440.106)\n",
      "  (Driver info: chromedriver=2.41.578706 (5f725d1b4f0a4acbf5259df887244095596231db),platform=Mac OS X 10.13.6 x86_64)\n",
      "\n",
      "Message: stale element reference: element is not attached to the page document\n",
      "  (Session info: chrome=68.0.3440.106)\n",
      "  (Driver info: chromedriver=2.41.578706 (5f725d1b4f0a4acbf5259df887244095596231db),platform=Mac OS X 10.13.6 x86_64)\n",
      "\n",
      "Message: stale element reference: element is not attached to the page document\n",
      "  (Session info: chrome=68.0.3440.106)\n",
      "  (Driver info: chromedriver=2.41.578706 (5f725d1b4f0a4acbf5259df887244095596231db),platform=Mac OS X 10.13.6 x86_64)\n",
      "\n",
      "Message: stale element reference: element is not attached to the page document\n",
      "  (Session info: chrome=68.0.3440.106)\n",
      "  (Driver info: chromedriver=2.41.578706 (5f725d1b4f0a4acbf5259df887244095596231db),platform=Mac OS X 10.13.6 x86_64)\n",
      "\n",
      "Message: stale element reference: element is not attached to the page document\n",
      "  (Session info: chrome=68.0.3440.106)\n",
      "  (Driver info: chromedriver=2.41.578706 (5f725d1b4f0a4acbf5259df887244095596231db),platform=Mac OS X 10.13.6 x86_64)\n",
      "\n",
      "Message: stale element reference: element is not attached to the page document\n",
      "  (Session info: chrome=68.0.3440.106)\n",
      "  (Driver info: chromedriver=2.41.578706 (5f725d1b4f0a4acbf5259df887244095596231db),platform=Mac OS X 10.13.6 x86_64)\n",
      "\n",
      "Message: stale element reference: element is not attached to the page document\n",
      "  (Session info: chrome=68.0.3440.106)\n",
      "  (Driver info: chromedriver=2.41.578706 (5f725d1b4f0a4acbf5259df887244095596231db),platform=Mac OS X 10.13.6 x86_64)\n",
      "\n",
      "Message: stale element reference: element is not attached to the page document\n",
      "  (Session info: chrome=68.0.3440.106)\n",
      "  (Driver info: chromedriver=2.41.578706 (5f725d1b4f0a4acbf5259df887244095596231db),platform=Mac OS X 10.13.6 x86_64)\n",
      "\n",
      "Message: stale element reference: element is not attached to the page document\n",
      "  (Session info: chrome=68.0.3440.106)\n",
      "  (Driver info: chromedriver=2.41.578706 (5f725d1b4f0a4acbf5259df887244095596231db),platform=Mac OS X 10.13.6 x86_64)\n",
      "\n",
      "Message: stale element reference: element is not attached to the page document\n",
      "  (Session info: chrome=68.0.3440.106)\n",
      "  (Driver info: chromedriver=2.41.578706 (5f725d1b4f0a4acbf5259df887244095596231db),platform=Mac OS X 10.13.6 x86_64)\n",
      "\n",
      "Message: stale element reference: element is not attached to the page document\n",
      "  (Session info: chrome=68.0.3440.106)\n",
      "  (Driver info: chromedriver=2.41.578706 (5f725d1b4f0a4acbf5259df887244095596231db),platform=Mac OS X 10.13.6 x86_64)\n",
      "\n",
      "Message: stale element reference: element is not attached to the page document\n",
      "  (Session info: chrome=68.0.3440.106)\n",
      "  (Driver info: chromedriver=2.41.578706 (5f725d1b4f0a4acbf5259df887244095596231db),platform=Mac OS X 10.13.6 x86_64)\n",
      "\n",
      "Message: stale element reference: element is not attached to the page document\n",
      "  (Session info: chrome=68.0.3440.106)\n",
      "  (Driver info: chromedriver=2.41.578706 (5f725d1b4f0a4acbf5259df887244095596231db),platform=Mac OS X 10.13.6 x86_64)\n",
      "\n",
      "Message: stale element reference: element is not attached to the page document\n",
      "  (Session info: chrome=68.0.3440.106)\n",
      "  (Driver info: chromedriver=2.41.578706 (5f725d1b4f0a4acbf5259df887244095596231db),platform=Mac OS X 10.13.6 x86_64)\n",
      "\n",
      "Message: stale element reference: element is not attached to the page document\n",
      "  (Session info: chrome=68.0.3440.106)\n",
      "  (Driver info: chromedriver=2.41.578706 (5f725d1b4f0a4acbf5259df887244095596231db),platform=Mac OS X 10.13.6 x86_64)\n",
      "\n"
     ]
    }
   ],
   "source": [
    "for element in elements:\n",
    "    try:\n",
    "        element.click()\n",
    "\n",
    "        job_title = browser.find_by_xpath(\"//h1[@class='jobTitle h2 strong']\")\n",
    "\n",
    "        #print(job_title.html)\n",
    "\n",
    "\n",
    "        job_title = job_title.html\n",
    "\n",
    "        job_title = str(job_title)\n",
    "\n",
    "        company = str(browser.find_by_xpath(\"//a[@class='plain strong empDetailsLink']\").html)\n",
    "        print(company)\n",
    "\n",
    "        company_info = browser.find_by_xpath(\"//div[@class='compInfo']\")\n",
    "        city_state = str(company_info.find_by_tag('span')[1].html)\n",
    "        rating = str(company_info.find_by_tag('span')[0].html)\n",
    "        rating = rating[0:3]\n",
    "        print(city_state)\n",
    "        \n",
    "        print(rating)\n",
    "\n",
    "        job_description = str(browser.find_by_xpath(\"//div[@class='jobDescriptionContent desc']\").html)\n",
    "\n",
    "        date = datetime.datetime.strftime(datetime.datetime.now(), '%d-%m-%Y')\n",
    "\n",
    "        job = {'job title': job_title, 'company': company, 'city state': city_state, 'rating': rating, 'job description': job_description}\n",
    "        path = '/Users/grothjd/DS_bootcamp/jobsearch_dashboard/corpus/' + date + '/'\n",
    "        if not os.path.exists(path):\n",
    "            os.makedirs(path)\n",
    "        try:\n",
    "            with open(path + company.replace(\" \", \"\") + '-' + job_title.replace(\" \", \"\") + '.txt', 'w') as f:\n",
    "                f.write(json.dumps(job))\n",
    "            f.close()\n",
    "        except:\n",
    "            print('File name already exists')\n",
    "        browser.back()\n",
    "    except Exception as e:\n",
    "        print(e)"
   ]
  },
  {
   "cell_type": "code",
   "execution_count": null,
   "metadata": {},
   "outputs": [],
   "source": []
  },
  {
   "cell_type": "code",
   "execution_count": 7,
   "metadata": {},
   "outputs": [
    {
     "ename": "NameError",
     "evalue": "name 'job_title' is not defined",
     "output_type": "error",
     "traceback": [
      "\u001b[0;31m---------------------------------------------------------------------------\u001b[0m",
      "\u001b[0;31mNameError\u001b[0m                                 Traceback (most recent call last)",
      "\u001b[0;32m<ipython-input-7-5556188b4d5d>\u001b[0m in \u001b[0;36m<module>\u001b[0;34m()\u001b[0m\n\u001b[0;32m----> 1\u001b[0;31m \u001b[0mjob_title\u001b[0m\u001b[0;34m\u001b[0m\u001b[0m\n\u001b[0m",
      "\u001b[0;31mNameError\u001b[0m: name 'job_title' is not defined"
     ]
    }
   ],
   "source": [
    "job_title\n"
   ]
  },
  {
   "cell_type": "code",
   "execution_count": null,
   "metadata": {},
   "outputs": [],
   "source": [
    "job_title.html"
   ]
  },
  {
   "cell_type": "code",
   "execution_count": null,
   "metadata": {},
   "outputs": [],
   "source": []
  }
 ],
 "metadata": {
  "kernelspec": {
   "display_name": "Python 3",
   "language": "python",
   "name": "python3"
  },
  "language_info": {
   "codemirror_mode": {
    "name": "ipython",
    "version": 3
   },
   "file_extension": ".py",
   "mimetype": "text/x-python",
   "name": "python",
   "nbconvert_exporter": "python",
   "pygments_lexer": "ipython3",
   "version": "3.6.4"
  }
 },
 "nbformat": 4,
 "nbformat_minor": 2
}
