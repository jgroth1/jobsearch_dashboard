{
 "cells": [
  {
   "cell_type": "code",
   "execution_count": 1,
   "metadata": {},
   "outputs": [],
   "source": [
    "import json\n",
    "import os\n",
    "from bs4 import BeautifulSoup\n",
    "import re\n",
    "from nltk.stem import WordNetLemmatizer\n",
    "from nltk import sent_tokenize, wordpunct_tokenize, pos_tag\n",
    "from nltk.corpus import stopwords\n",
    "import nltk\n",
    "from gensim.models.doc2vec import TaggedDocument, Doc2Vec\n",
    "from gensim import corpora, models, similarities"
   ]
  },
  {
   "cell_type": "code",
   "execution_count": 2,
   "metadata": {},
   "outputs": [],
   "source": [
    "def paras(html):\n",
    "    soup = BeautifulSoup(html, 'html.parser')\n",
    "    for string in soup.stripped_strings:\n",
    "        yield string\n",
    "\n",
    "def sents(html):\n",
    "    for paragraph in paras(html):\n",
    "        for sentence in sent_tokenize(paragraph):\n",
    "            yield sentence\n",
    "\n",
    "def words(html):\n",
    "    for sentence in sents(html):\n",
    "        for token in wordpunct_tokenize(sentence):\n",
    "            yield token\n",
    "\n",
    "def tokenize(html):\n",
    "    for paragraph in paras(html):\n",
    "        yield [pos_tag(wordpunct_tokenize(sent)) for sent in sent_tokenize(paragraph)]\n",
    "    "
   ]
  },
  {
   "cell_type": "code",
   "execution_count": 10,
   "metadata": {},
   "outputs": [],
   "source": [
    "docs = []\n",
    "titles = []\n",
    "stop_words = set(stopwords.words('english'))\n",
    "wnl = WordNetLemmatizer()\n",
    "n=0\n",
    "for i in range(10):\n",
    "    i += 1\n",
    "    path = 'corpus3/02-09-2018/Page_' + str(i) + '/'\n",
    "    files = os.listdir(path)\n",
    "    rxs = [re.search('^\\.',file) for file in files]\n",
    "    i =[n for n in range(len(rxs)) if rxs[n]]\n",
    "    m = 0\n",
    "    for k in i:\n",
    "        files.pop(k-m)\n",
    "        m += 1\n",
    "\n",
    "    for file in files: \n",
    "        with open(path + file, encoding='utf-8') as f:\n",
    "            job_post = f.read()\n",
    "\n",
    "        job_dict = eval(job_post)\n",
    "\n",
    "        job_dict.keys()\n",
    "\n",
    "        title = job_dict['job title']\n",
    "        company = job_dict['company']\n",
    "        titles.append([n, title, company])\n",
    "        html = job_dict['job description']\n",
    "        doc = []\n",
    "        xs = words(html)\n",
    "        for x in xs:\n",
    "            if x not in stop_words:\n",
    "                doc.append(wnl.lemmatize(x))\n",
    "\n",
    "        docs.append(doc)\n",
    "        n += 1"
   ]
  },
  {
   "cell_type": "code",
   "execution_count": 11,
   "metadata": {},
   "outputs": [],
   "source": [
    "corpus = [d for d in docs]"
   ]
  },
  {
   "cell_type": "code",
   "execution_count": 12,
   "metadata": {},
   "outputs": [],
   "source": [
    "documents = [TaggedDocument(doc, [i]) for i, doc in enumerate(docs)]\n",
    "model = Doc2Vec(documents, vector_size=50, min_count=3)"
   ]
  },
  {
   "cell_type": "code",
   "execution_count": 13,
   "metadata": {},
   "outputs": [],
   "source": [
    "stop_words = set(stopwords.words('english'))\n",
    "wnl = WordNetLemmatizer()\n",
    "n=0\n",
    "resses = []\n",
    "\n",
    "with open('/Users/grothjd/documents/DS_resume/Time_Series_Resume/Jonathan_Groth_PhD_Resume_test.txt', encoding='utf-8') as f:\n",
    "    resume = f.read()\n",
    "\n",
    "#print(resume)    \n",
    "    \n",
    "    \n",
    "xs = words(resume)\n",
    "for x in xs:\n",
    "    if x not in stop_words:\n",
    "        resses.append(wnl.lemmatize(x))"
   ]
  },
  {
   "cell_type": "code",
   "execution_count": 14,
   "metadata": {},
   "outputs": [
    {
     "name": "stdout",
     "output_type": "stream",
     "text": [
      "[(248, 0.9904485940933228), (3, 0.9902143478393555), (0, 0.9868148565292358), (29, 0.9866664409637451), (222, 0.9852432608604431), (26, 0.9850229024887085), (51, 0.984184741973877), (7, 0.9838785529136658), (153, 0.9836649894714355), (74, 0.9827955961227417)]\n"
     ]
    },
    {
     "name": "stderr",
     "output_type": "stream",
     "text": [
      "/anaconda3/envs/PythonData/lib/python3.6/site-packages/gensim/matutils.py:737: FutureWarning: Conversion of the second argument of issubdtype from `int` to `np.signedinteger` is deprecated. In future, it will be treated as `np.int64 == np.dtype(int).type`.\n",
      "  if np.issubdtype(vec.dtype, np.int):\n"
     ]
    }
   ],
   "source": [
    "inferred_vector = model.infer_vector(resses)\n",
    "sims = model.docvecs.most_similar([inferred_vector])\n",
    "print(sims)"
   ]
  },
  {
   "cell_type": "code",
   "execution_count": 15,
   "metadata": {},
   "outputs": [
    {
     "name": "stdout",
     "output_type": "stream",
     "text": [
      "[[0, 'Digital Media Data Scientist - Machine Learning - Englewood', 'DISH'], [1, 'Data Scientist II', 'Vanguard'], [2, 'Data Scientist', 'Vesta Corporation'], [3, 'Data Scientist', 'Envision'], [4, 'Data Scientist', 'Lockheed Martin'], [5, 'Data Scientist', 'CyberCoders'], [6, 'Data Scientist', 'The Judge Group, Inc.'], [7, 'Digital Media Data Scientist - Predictive Modeling - Englewood', 'DISH'], [8, 'Digital Media Data Scientist - Omnicannel Marketing - Englewood', 'DISH'], [9, 'Data Scientist', 'CGH Technologies, Inc.'], [10, 'Data Scientist', 'Beacon Hill Staffing'], [11, 'Data Scientist', 'SURVICE Engineering Company'], [12, 'Research Scientist-Statistician', 'Elanco'], [13, 'Data Scientist', 'Evans &amp; Chambers Technology'], [14, 'Digital Media Data Scientist - Digital Analytics - Englewood', 'DISH'], [15, 'Digital Media Data Scientist - Marketing Analytics - Relocate to Denver', 'DISH'], [16, 'Data Scientist', 'NTT DATA'], [17, 'Data Scientist', 'Shields Health Solutions'], [18, 'Digital Media Data Scientist - Marketing Analytics - Englewood', 'DISH'], [19, 'Data Scientist', '20th Century Fox'], [20, 'Data Scientist', 'Aetna Inc.'], [21, 'Data Scientist', 'CALIBRE'], [22, 'Data Scientist', 'Jacobs'], [23, 'Business &amp; Data Analyst', 'Evergreen Enterprises'], [24, 'Data Scientist', 'Chicago Transit Authority (CTA)'], [25, 'Data Scientist', 'TEKsystems, Inc'], [26, 'Data Scientist', 'Aptima'], [27, 'Data Scientist', 'Optimal'], [28, 'Data Scientist', 'Enterprise Solution inc'], [29, 'Data Scientist', 'Discovery Communications'], [30, 'Data Scientist 2', 'Humana'], [31, 'Scientist, Analytical Development (Contract)', 'Novavax'], [32, 'Data Scientist', 'Odecee'], [33, 'Digital Media Data Scientist - Predictive Modeling - Relocate to Denver', 'DISH'], [34, 'Data Scientist', 'TrueCar'], [35, 'Data Scientist', 'Jobspring Partners'], [36, 'Data Scientist', 'Avacend, Inc.'], [37, 'Data Scientist', 'DISH Network Corporation'], [38, 'Senior Data Scientist', 'Marlette Funding'], [39, 'Data Scientist', 'PACCAR'], [40, 'Digital Media Data Scientist - Omnicannel Marketing - Relocate to Denver', 'DISH'], [41, 'Data Scientist', 'ZipLine'], [42, 'Data Scientist', 'Motive Interactive'], [43, 'Digital Media Data Scientist - Machine Learning - Relocate to Denver', 'DISH'], [44, 'Data Scientist', 'Iconma'], [45, 'Data Scientist', 'Providence Health &amp; Services'], [46, 'Data Scientist', 'Modis'], [47, 'Data Scientist', 'Collabera'], [48, 'Data Scientist', 'Aegon'], [49, 'Data Scientist', 'Johns Hopkins Medicine'], [50, 'Digital Media Data Scientist - Digital Analytics - Relocate to Denver', 'DISH'], [51, 'Data Scientist', 'Hertz'], [52, 'Senior Data Scientist', 'CyberCoders'], [53, 'Data Scientist', 'UL'], [54, 'Data Scientist', 'TATA Consultancy Services'], [55, 'Data Science Internship', 'Project Concern International'], [56, 'Data Scientist 2', 'Microsoft Corporation'], [57, 'Data Scientist - IRES - SAFB', 'Jacobs'], [58, 'Data Scientist - Sports Analytics', 'CyberCoders'], [59, 'Data Scientist (Seasonal)', 'Noblis'], [60, 'Senior Data Scientist', 'SAP'], [61, 'Associate Data Scientist', 'Vans'], [62, 'Data Scientist- Vice President', 'Deutsche Bank'], [63, 'Data &amp; Applied Scientist', 'Microsoft Corporation'], [64, 'Assistant Lecturer - Data Scientist', 'University of Wyoming'], [65, 'Corporate Data Scientist&amp;Analyst', \"L'Oreal\"], [66, 'SENIOR DATA SCIENTIST', 'Primer Technologies, Inc.'], [67, 'Associate Data Scientist', 'NextEra Energy, Inc'], [68, 'Lead Data Scientist', 'Aetna'], [69, 'Sr Data Scientist', 'Aetna'], [70, 'Data Scientist - Commercial Sales', 'Aetna'], [71, 'Principal Data Scientist', 'Foot Locker'], [72, 'Data Analyst', 'Sonepar USA'], [73, 'Data Scientists', 'CDI Corporation'], [74, 'Customer Journey Data Scientist', 'JPMorgan Chase'], [75, 'Senior Data Scientist', 'Humana'], [76, 'Data Scientist, I', 'Live Nation Entertainment'], [77, 'Data Scientist Engineer', 'Aptiv'], [78, 'Data Scientist - Senior', 'Envision'], [79, 'Lead Data Scientist', 'CyberCoders'], [80, 'Marketing Data Scientist', 'ICF'], [81, 'Data Scientist - Intermediate', 'Envision'], [82, 'Data Scientist II', 'Parallon'], [83, 'Senior Data Scientist', 'TransFX'], [84, 'Senior Data Scientist Position', 'Advance Auto Parts'], [85, 'Asst Research Scientist', 'NYU Langone Health'], [86, 'Senior Data Scientist', 'Optimal'], [87, 'Data Scientist, Digital Ag', 'DuPont'], [88, 'Scientist, Data Lead', 'Mosaic'], [89, 'Principal Data Scientist', 'Aetna Inc.'], [90, 'Data Scientist - 3m', '3m'], [91, 'Sr Data Scientist', 'NextEra Energy, Inc'], [92, 'Principal Data Scientist', 'Advance Auto Parts'], [93, 'Business Intelligence Analyst', \"Cook Children's Health Care System\"], [94, 'Data Scientist - 1', 'Absolute Opportunities'], [95, 'Process Data Scientist - 3m', '3m'], [96, 'UR - Data Scientist', '3m'], [97, 'Principal-Data Scientist', 'AT&amp;T'], [98, 'Data Scientist - Personal Lines Data Science', 'The Hartford'], [99, 'Data Scientist PhD', 'Wayfair'], [100, 'Data Scientist (Camp Lejeune', 'Wyle Laboratories, Inc.'], [101, 'Data Scientist (*Relocation Assistance Available)', 'CyberCoders'], [102, 'Scientist', 'Aptima'], [103, 'Data Scientist (Bioinformatics)', 'ESAC Inc'], [104, 'Process Data Scientist âž', '3m'], [105, 'DATA SCIENTIST - DiverseLynx', 'DiverseLynx'], [106, 'Data Scientist *âž', '3m'], [107, 'Data Scientist - Mobile', 'NewGig'], [108, 'Senior Data Scientist', 'Iconma'], [109, 'Senior Data Scientist, Supply Chain', 'Coyote'], [110, 'Full Time Data Scientist', 'Jobspring Partners'], [111, 'Data Engineer', 'CyberCoders'], [112, 'Senior Data Scientist', 'nThrive'], [113, 'Data Scientist - Workforce&amp;FTE Analytics', 'BMO'], [114, 'Principal, Data Scientist', 'CoreLogic'], [115, 'Data Scientist Architect', 'nThrive'], [116, 'Scientist', 'BioAgilytix'], [117, 'Principal Data Scientist, Center for Mathematical Sciences', 'Merck&amp;Co., Inc.'], [118, 'Data Scientist - Decision Sciences Personal Valuation team', 'Alliance Data'], [119, 'Senior Data Scientist, Supply Chain', 'Coyote Logistics'], [120, 'CPG Data Scientist', 'Jobspring Partners'], [121, 'Machine Learning Scientist', 'CyberCoders'], [122, 'Research Data Scientist (Geospatial) - Senior', 'Envision'], [123, 'Senior Research Data Scientist - St.', 'Iconma'], [124, 'Data Scientist Onshhore W2 Opportunity', 'AIC'], [125, 'Senior Data Scientist - Advanced Analytics', 'The Ironside Group'], [126, 'Merchant Services- Data Scientist, VP', 'JPMorgan Chase&amp;Co.'], [127, 'Principal Data Scientist', 'UnitedHealth Group'], [128, 'Senior Data Scientist, Gigafactory 1', 'Tesla Motors'], [129, 'Scientist', 'Iconma'], [130, 'Data Scientist R2R', ''], [131, 'United States Houston: Data Scientist', 'Halliburton'], [132, 'Bioinformatics Scientist', 'CyberCoders'], [133, 'Sr. Data Scientist', 'Williams-Sonoma, Inc.'], [134, 'Senior Engineer - Research Data Scientist', 'Amgen'], [135, 'Associate Data Scientist Internship - Customer Data&amp;Analytics', 'The Gap'], [136, 'Junior IT Data Scientist', 'Beckman Coulter - Diagnostics'], [137, 'Marine Mammal and Sea Turtle Rescue Data Management Intern', 'New England Aquarium - Interns'], [138, 'Clinical Scientist', 'BlackThorn Therapeutics'], [139, 'Principal Data Scientist - Secureworks - Columbia, MD or Remote', 'Dell'], [140, 'Data Engineer', 'VanderHouwen'], [141, 'Assistant Scientist', 'University of Florida'], [142, 'Lead Data Scientist - (JOIN OCI Networking', 'Oracle'], [143, 'Scientist', 'Parsons Commercial Technology Group Inc.'], [144, 'Research Scientist', 'Massachusetts General Hospital(MGH)'], [145, 'Research Scientist', 'Nevro Corp.'], [146, 'Scientist', 'WuXi AppTec'], [147, 'RESEARCH SCIENTIST', 'University of Washington'], [148, 'Computer Vision Scientist', 'CyberCoders'], [149, 'Scientist', 'Brookhaven Science Associates'], [150, 'Senior Bioinformatics Scientist', 'CyberCoders'], [151, 'Research Data Scientist, Geospatial Analytics', 'Iconma'], [152, 'Consulting Solution Manager - Data, Data Analyst, Data Scientist (US-NSG)', 'Oracle'], [153, 'Algorithm Scientist', 'Hudson River Trading LLC'], [154, 'Risk &amp; Underwriting Data Scientist - Requisition #: 445831900', 'New York Life'], [155, 'Principal Data Scientist (JOIN OCI Networking)', 'Oracle'], [156, 'Data Science Lead', 'Nutrien LTD'], [157, 'Chief Data Scientist – Demand Sensing, Enterprise Data &amp; Analytics', 'NIKE'], [158, 'Chief Data Scientist Demand Sensing, Enterprise Data &amp; Analytics', 'Nike'], [159, 'Associate Scientist |', 'Kelly Services'], [160, 'Scientist II', 'Bristol Myers Squibb'], [161, 'Associate Scientist', 'Pharmaceutical Product Development'], [162, 'Sr. Scientist, Scientist Pharma Assays and Analytics', 'Summit Partners, L.P'], [163, 'Research Scientist Machine Learning', 'Intel Corporation'], [164, 'Assistant Scientist', 'University of Miami'], [165, 'Social Scientist', 'U.S. Department of the Interior'], [166, 'Data Architect', 'Primerica'], [167, 'Entry Level Biology Scientist', 'Momentum Scientific'], [168, 'Associate Analytics Consultant', 'Pandata Group'], [169, 'Scientist - Medicinal Chemistry', 'BlackThorn Therapeutics'], [170, 'Research Scientist', 'Oath'], [171, 'Staff Scientist', 'Vanderbilt University Medical Center'], [172, 'Bench Scientist', 'Alphanumeric Systems'], [173, 'Scientist II', 'Varite'], [174, 'Analytical Scientist', 'Planet Pharma'], [175, 'Scientist (MB)', 'Summit Partners, L.P'], [176, 'Data Engineer', 'Evans &amp; Chambers Technology'], [177, 'Scientist I', 'TalentBurst'], [178, 'Scientist II', 'TalentBurst'], [179, 'Data Engineer', 'Baker Technologies'], [180, 'Associate Scientist', 'Summit Partners, L.P'], [181, 'Research Scientist', 'Pharmaceutical Product Development'], [182, 'Data Engineer', 'Abbott'], [183, 'Biological Scientist', 'Department of the Air Force'], [184, 'Principal Scientist, Medicinal Chemistry', 'Rheos Medicines'], [185, 'Silviculture Scientist', 'Weyerhaeuser Company'], [186, 'Research Scientist', 'Intel Corporation'], [187, 'Scientist - Protein Sciences', 'Summit Partners, L.P'], [188, 'Associate Scientist Protein Sciences', 'Summit Partners, L.P'], [189, 'Scientist, Analytical Sciences', 'Pfenex Inc.'], [190, 'Staff Scientist - Radiation Oncology', 'Washington University In St. Louis'], [191, 'Glass Surface Scientist', 'Corning'], [192, 'Senior Scientist', 'Pharmaceutical Product Development'], [193, 'Data Engineer', 'Summit Partners, L.P'], [194, 'Associate Product Development Scientist', \"Nature's Sunshine Products\"], [195, 'Data Engineer', 'Marsh&amp;McLennan Companies, Inc.'], [196, 'Study Data Manager I', 'Kelly Services'], [197, 'Environmental Scientist', 'AECOM'], [198, 'Computer Scientist', 'Workbridge Associates'], [199, 'Senior Scientist', 'Bristol-Myers Squibb'], [200, 'Senior Scientist, Regulatory Compliance', 'Pfizer'], [201, 'Senior Scientist', 'Merck'], [202, 'Staff Scientist - Hematology', 'Washington University In St. Louis'], [203, 'Distinguished Scientist', 'Corden Pharma GmbH'], [204, 'Bioanalytical Associate Scientist', 'Merck USA'], [205, 'RESEARCH SCIENTIST ENGINEER', 'University of Washington'], [206, 'Bioinformatics Scientist 2', 'Illumina'], [207, 'Staff Scientist', 'Terracon'], [208, 'Senior Scientist, Method Development -', 'IQVIA'], [209, 'Senior Medical Scientist - Cardiovascular Intercontinental R', 'Amgen'], [210, 'RESEARCH SCIENTIST , Immunology', 'Massachusetts General Hospital(MGH)'], [211, 'Bioinformatics Scientist I', \"Children's Hospital of Philadelphia\"], [212, 'Associate Scientist 1', 'Illumina'], [213, 'Imaging Research Scientist', 'Vanderbilt University Medical Center'], [214, 'Sr. Process Scientist', 'Abbott Laboratories'], [215, 'Associate Scientist Level 1', 'Planet Pharma'], [216, 'PRINCIPAL SCIENTIST I', 'Roche'], [217, 'Staff Research Scientist', 'Massachusetts General Hospital(MGH)'], [218, 'Scientist - II (Associate)', 'TalentBurst'], [219, 'Associate Scientist - Fermentation', 'Lifecore Biomedical LLC'], [220, 'Research Scientist', 'WuXi AppTec'], [221, 'Assistant Scientist (Cell Biology)', 'University of Miami'], [222, 'BT-1582 Computer &amp; Information Research Scientist', 'Bastion Technologies'], [223, 'Sr Research Scientist 1', 'University Of New Mexico'], [224, 'Staff Scientist - Radiology', 'Washington University In St. Louis'], [225, 'Chief Data Strategist And Director', 'National Institutes of Health'], [226, 'Weed Control Reserach Scientist', 'Monsanto Company'], [227, 'Data Engineer', 'CSpring'], [228, 'Senior Scientist, Vaccines R&amp;D', 'Pfizer'], [229, 'Data Scientistâž', '3m'], [230, 'Scientist, Tech Transfer (Drug Substance)', 'Pfenex Inc.'], [231, 'Bench Scientist I', 'TalentBurst'], [232, 'Visiting Research Scientist', 'Intel Corp.'], [233, 'Environmental Scientist', 'Golder'], [234, 'Bench Scientist I', 'Planet Pharma'], [235, 'Senior Principal Scientist, Precision Medicine', 'Pfizer'], [236, 'Staff Scientist - Molecular Microbiology - St.', 'Washington University In St. Louis'], [237, 'Bioinformatics Scientist', 'Biocept, Inc.'], [238, 'Physical Scientist', 'Department of Labor'], [239, 'Senior Director, Data and Technology transformation', 'Kinetix Technology'], [240, 'Data Engineer', 'TrueCar'], [241, 'Senior Research Scientist - Immunology', 'MD Anderson'], [242, 'Clinical Development Scientist - Philips', 'Philips'], [243, 'Principal, Scientist', 'CoreLogic'], [244, 'R&amp;D Scientist', 'Del Monte Foods'], [245, 'Senior Research Scientist *', '3m'], [246, 'Associate Scientist, Process Development', 'Summit Partners, L.P'], [247, 'Senior Scientist, Downstream Process Development', 'Pfizer'], [248, 'Lead Data Eng-Demand Sensing, Enterprise Data', 'Nike'], [249, 'Associate Scientist', '3 Key Consulting'], [250, 'Staff Scientist - Computational Genetics - Cardiology', 'Washington University In St. Louis'], [251, 'Bioinformatics Scientist', 'Nesco Resource'], [252, 'IVD Bioinformatics Scientist', 'CyberCoders'], [253, 'Senior Research Scientist * âž', '3m'], [254, 'Research Scientist', 'Spark Therapeutics'], [255, 'Computer Scientist Associate', 'Jacobs'], [256, 'Sr Medical Scientist', 'Collabera'], [257, 'Principal Scientist Clinical Research', 'Abbott AG'], [258, 'Principal Clinical Research Scientist', 'Abbott AG'], [259, 'Senior Environmental Scientists', 'Jacobs']]\n"
     ]
    }
   ],
   "source": [
    "print(titles)"
   ]
  },
  {
   "cell_type": "code",
   "execution_count": null,
   "metadata": {},
   "outputs": [],
   "source": []
  }
 ],
 "metadata": {
  "kernelspec": {
   "display_name": "Python 3",
   "language": "python",
   "name": "python3"
  },
  "language_info": {
   "codemirror_mode": {
    "name": "ipython",
    "version": 3
   },
   "file_extension": ".py",
   "mimetype": "text/x-python",
   "name": "python",
   "nbconvert_exporter": "python",
   "pygments_lexer": "ipython3",
   "version": "3.6.4"
  }
 },
 "nbformat": 4,
 "nbformat_minor": 2
}
