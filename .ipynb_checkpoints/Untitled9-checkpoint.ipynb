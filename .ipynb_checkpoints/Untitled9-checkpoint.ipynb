{
 "cells": [
  {
   "cell_type": "code",
   "execution_count": 1,
   "metadata": {},
   "outputs": [],
   "source": [
    "from bs4 import BeautifulSoup\n",
    "import os\n",
    "import re"
   ]
  },
  {
   "cell_type": "code",
   "execution_count": null,
   "metadata": {},
   "outputs": [],
   "source": [
    "docs = []\n",
    "titles = []\n",
    "for i in range(1):\n",
    "    i += 1\n",
    "    path = 'corpus3/02-09-2018/Page_' + str(i) + '/'\n",
    "    files = os.listdir(path)\n",
    "    rxs = [re.search('^\\.',file) for file in files]\n",
    "    i =[n for n in range(len(rxs)) if rxs[n]]\n",
    "    n = 0\n",
    "    for k in i:\n",
    "        files.pop(k-n)\n",
    "        n += 1\n",
    "    n=0\n",
    "    for file in files: \n",
    "        \n",
    "        with open(path + file, encoding='utf-8') as f:\n",
    "            job_post = f.read()\n",
    "\n",
    "        job_dict = eval(job_post)\n",
    "\n",
    "        job_dict.keys()\n",
    "\n",
    "        title = job_dict['job title']\n",
    "        company = job_dict['company']\n",
    "        titles.append([n, title, company])\n",
    "        html = job_dict['job description']\n",
    "        soup = BeautifulSoup(html, 'html.parser')\n",
    "        stripped = soup.stripped_strings\n",
    "        \n",
    "        for string in stripped:\n",
    "            docs.append(string)\n",
    "flat_docs = [item for item in docs]\n",
    "joined_docs = ' '.join(flat_docs)"
   ]
  }
 ],
 "metadata": {
  "kernelspec": {
   "display_name": "Python 3",
   "language": "python",
   "name": "python3"
  },
  "language_info": {
   "codemirror_mode": {
    "name": "ipython",
    "version": 3
   },
   "file_extension": ".py",
   "mimetype": "text/x-python",
   "name": "python",
   "nbconvert_exporter": "python",
   "pygments_lexer": "ipython3",
   "version": "3.6.4"
  }
 },
 "nbformat": 4,
 "nbformat_minor": 2
}
